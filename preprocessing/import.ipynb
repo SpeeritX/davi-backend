{
 "cells": [
  {
   "cell_type": "code",
   "execution_count": 89,
   "metadata": {},
   "outputs": [],
   "source": [
    "import pandas as pd\n",
    "import numpy as np\n",
    "df = pd.read_csv('processed_data_davi.csv', dtype={\n",
    "    \"ICAO 24-bit code\": 'str',\n",
    "    \"callsign\": 'str',\n",
    "    \"origin country\": 'str',\n",
    "    \"time at position\": 'str',\n",
    "    \"time of last contact\": 'str',\n",
    "    \"longitude\": 'str',\n",
    "    \"latitude\": 'str',\n",
    "    \"barometric altitude\": 'float',\n",
    "    \"aircraft is grounded\": 'bool',\n",
    "    \"velocity\": 'float',\n",
    "    \"heading\": 'float',\n",
    "    \"vertical rate\": 'float',\n",
    "    \"geo_altitude\": 'float',\n",
    "    \"squawk\": 'float',\n",
    "    \"spi\": 'bool',\n",
    "    \"latitude, longitude\": 'str',\n",
    "    \"location\": 'str',\n",
    "    \"country\": 'str',\n",
    "    \"oblast\": 'str',\n",
    "}, date_parser = pd.to_datetime,\n",
    "parse_dates=['time at position', 'time of last contact'])"
   ]
  },
  {
   "cell_type": "code",
   "execution_count": 90,
   "metadata": {},
   "outputs": [],
   "source": [
    "df.latitude = round(df.latitude.astype(float),4).astype(str)"
   ]
  },
  {
   "cell_type": "code",
   "execution_count": 91,
   "metadata": {},
   "outputs": [],
   "source": [
    "df.longitude = round(df.longitude.astype(float),4).astype(str)"
   ]
  },
  {
   "cell_type": "code",
   "execution_count": 92,
   "metadata": {},
   "outputs": [],
   "source": [
    "df.country = df.country[df.country.str[0] == \" \"].str[1:]"
   ]
  },
  {
   "cell_type": "code",
   "execution_count": 93,
   "metadata": {},
   "outputs": [],
   "source": [
    "df['date'] = df['time at position'].apply(lambda x: str(x.date()))\n",
    "df['flight-id'] = df['ICAO 24-bit code'] + df['callsign'] + df['date']"
   ]
  },
  {
   "cell_type": "code",
   "execution_count": 99,
   "metadata": {},
   "outputs": [],
   "source": [
    "def gen_squawk(X):\n",
    "    if 7500.0 in X:\n",
    "        return '7500'\n",
    "    if 7700.0 in X:\n",
    "        return '7700'\n",
    "    else:\n",
    "        return 'other'"
   ]
  },
  {
   "cell_type": "code",
   "execution_count": 100,
   "metadata": {},
   "outputs": [],
   "source": [
    "def is_in_ukraine(x):\n",
    "    if 'Ukraine' in x:\n",
    "        return True\n",
    "    else:\n",
    "        return False"
   ]
  },
  {
   "cell_type": "code",
   "execution_count": 101,
   "metadata": {},
   "outputs": [],
   "source": [
    "df['was_in_ukraine'] = df['country']"
   ]
  },
  {
   "cell_type": "code",
   "execution_count": 94,
   "metadata": {},
   "outputs": [],
   "source": [
    "df.drop(columns=['oblast'])\n",
    "def get_state(x):\n",
    "    try:\n",
    "        x = x.split(',')\n",
    "        if len(x) == 0:\n",
    "            return np.nan\n",
    "        if len(x) == 1:\n",
    "            return np.nan\n",
    "        if x[-1] == \" Kosovo\" or x[-1] == \"Kosovo\":\n",
    "            return \"Kosovo\"\n",
    "        if x[-1] == \" Russia\" or x[-1] == \"Russia\":\n",
    "            o = [e for e in x if ('Oblast' in e or 'Krai' in e)]\n",
    "            return o[-1] if len(o) > 0 else np.nan\n",
    "        if len(x) == 2:\n",
    "            return x[0]\n",
    "        if not any(char.isdigit() for char in x[-2]):\n",
    "            return x[-2]\n",
    "        return x[-3]\n",
    "    except:\n",
    "        return np.nan\n",
    "df.oblast = df.location.apply(lambda x: get_state(x))"
   ]
  },
  {
   "cell_type": "code",
   "execution_count": 95,
   "metadata": {},
   "outputs": [],
   "source": [
    "df.loc[df.oblast.str[0] == \" \", \"oblast\"] = df.oblast[df.oblast.str[0] == \" \"].str[1:]"
   ]
  },
  {
   "cell_type": "code",
   "execution_count": 96,
   "metadata": {},
   "outputs": [],
   "source": [
    "def fixState(x):\n",
    "    if (x == \"Republic of Crimea\"):\n",
    "        return \"Autonomous Republic of Crimea\"\n",
    "    return x\n",
    "df.oblast = df.oblast.apply(fixState)"
   ]
  },
  {
   "cell_type": "code",
   "execution_count": 97,
   "metadata": {},
   "outputs": [],
   "source": [
    "df[df.oblast.isna() & ~df.location.isna()][['country','oblast','location']].to_csv(\"nulls.csv\")"
   ]
  },
  {
   "cell_type": "code",
   "execution_count": 98,
   "metadata": {},
   "outputs": [],
   "source": [
    "df['latitude, longitude'] = df[['latitude', 'longitude']].values.tolist()"
   ]
  },
  {
   "cell_type": "code",
   "execution_count": 103,
   "metadata": {},
   "outputs": [],
   "source": [
    "gbdf = df.sort_values(by='time at position').groupby(['flight-id','origin country','date'], dropna=False).agg({\n",
    "    \"barometric altitude\": np.max,\n",
    "    \"velocity\": np.max,\n",
    "    \"vertical rate\": np.max,\n",
    "    \"oblast\": lambda x: set(x),\n",
    "    \"country\": lambda x: set(x),\n",
    "    \"latitude, longitude\": lambda x: list(x),\n",
    "    \"spi\": lambda x: any(x),\n",
    "    \"squawk\": lambda x: gen_squawk(set(x)),\n",
    "    \"was_in_ukraine\": lambda x: is_in_ukraine(set(x))\n",
    "})"
   ]
  },
  {
   "cell_type": "code",
   "execution_count": 104,
   "metadata": {},
   "outputs": [],
   "source": [
    "df.to_csv('all_data_davi.csv', index=False) "
   ]
  },
  {
   "cell_type": "code",
   "execution_count": 105,
   "metadata": {},
   "outputs": [],
   "source": [
    "df[df.country == 'Ukraine'].to_csv('ukraine_data_davi.csv', index=False) "
   ]
  },
  {
   "cell_type": "code",
   "execution_count": 106,
   "metadata": {},
   "outputs": [],
   "source": [
    "gbdf.to_csv(\"flights_separate.csv\")"
   ]
  }
 ],
 "metadata": {
  "kernelspec": {
   "display_name": "Python 3.9.10 64-bit",
   "language": "python",
   "name": "python3"
  },
  "language_info": {
   "codemirror_mode": {
    "name": "ipython",
    "version": 3
   },
   "file_extension": ".py",
   "mimetype": "text/x-python",
   "name": "python",
   "nbconvert_exporter": "python",
   "pygments_lexer": "ipython3",
   "version": "3.9.10"
  },
  "orig_nbformat": 4,
  "vscode": {
   "interpreter": {
    "hash": "aee8b7b246df8f9039afb4144a1f6fd8d2ca17a180786b69acc140d282b71a49"
   }
  }
 },
 "nbformat": 4,
 "nbformat_minor": 2
}
