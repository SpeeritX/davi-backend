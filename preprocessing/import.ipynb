{
 "cells": [
  {
   "cell_type": "code",
   "execution_count": 2,
   "metadata": {},
   "outputs": [],
   "source": [
    "import pandas as pd\n",
    "import numpy as np\n",
    "df = pd.read_csv('processed_data_davi.csv', dtype={\n",
    "    \"ICAO 24-bit code\": 'str',\n",
    "    \"callsign\": 'str',\n",
    "    \"origin country\": 'str',\n",
    "    \"time at position\": 'str',\n",
    "    \"time of last contact\": 'str',\n",
    "    \"longitude\": 'str',\n",
    "    \"latitude\": 'str',\n",
    "    \"barometric altitude\": 'float',\n",
    "    \"aircraft is grounded\": 'bool',\n",
    "    \"velocity\": 'float',\n",
    "    \"heading\": 'float',\n",
    "    \"vertical rate\": 'float',\n",
    "    \"geo_altitude\": 'float',\n",
    "    \"squawk\": 'float',\n",
    "    \"spi\": 'bool',\n",
    "    \"latitude, longitude\": 'str',\n",
    "    \"location\": 'str',\n",
    "    \"country\": 'str',\n",
    "    \"oblast\": 'str',\n",
    "}, date_parser = pd.to_datetime,\n",
    "parse_dates=['time at position', 'time of last contact'])"
   ]
  },
  {
   "cell_type": "code",
   "execution_count": 3,
   "metadata": {},
   "outputs": [
    {
     "data": {
      "text/plain": [
       "array([], dtype=object)"
      ]
     },
     "execution_count": 3,
     "metadata": {},
     "output_type": "execute_result"
    }
   ],
   "source": [
    "df[df.country == 'Ukraine'].oblast.unique()"
   ]
  },
  {
   "cell_type": "code",
   "execution_count": 4,
   "metadata": {},
   "outputs": [],
   "source": [
    "df.latitude = round(df.latitude.astype(float),4).astype(str)"
   ]
  },
  {
   "cell_type": "code",
   "execution_count": 5,
   "metadata": {},
   "outputs": [],
   "source": [
    "df.longitude = round(df.longitude.astype(float),4).astype(str)"
   ]
  },
  {
   "cell_type": "code",
   "execution_count": 6,
   "metadata": {},
   "outputs": [],
   "source": [
    "df.country = df.country[df.country.str[0] == \" \"].str[1:]"
   ]
  },
  {
   "cell_type": "code",
   "execution_count": 7,
   "metadata": {},
   "outputs": [],
   "source": [
    "df['date'] = df['time at position'].apply(lambda x: str(x.date()))\n",
    "df['flight-id'] = df['ICAO 24-bit code'] + df['callsign'] + df['date']"
   ]
  },
  {
   "cell_type": "code",
   "execution_count": 8,
   "metadata": {},
   "outputs": [],
   "source": [
    "df.loc[df.country == \"Hungary\", \"oblast\"] = df[df.country == \"Hungary\"].location.str.split(\",\").apply(lambda x: [e for ind, e in enumerate(x[1:]) if ('járás' in x[ind])][0])"
   ]
  },
  {
   "cell_type": "code",
   "execution_count": 9,
   "metadata": {},
   "outputs": [],
   "source": [
    "df.loc[df.country == \"Poland\", \"oblast\"] = df[df.country == \"Poland\"].location.str.split(\",\").apply(lambda x: x[-2] if 'Voivodeship' in x[-2] else x[-3])"
   ]
  },
  {
   "cell_type": "code",
   "execution_count": 10,
   "metadata": {},
   "outputs": [],
   "source": [
    "df.loc[df.country == \"Romania\", \"oblast\"] = df[df.country == \"Romania\"].location.str.split(\",\").apply(lambda x: x[-3] if any(char.isdigit() for char in x[-2]) else x[-2])"
   ]
  },
  {
   "cell_type": "code",
   "execution_count": 11,
   "metadata": {},
   "outputs": [],
   "source": [
    "df.loc[df.country == \"Bulgaria\", \"oblast\"] = df[df.country == \"Bulgaria\"].location.str.split(\",\").apply(lambda x: x[-3] if any(char.isdigit() for char in x[-2]) else x[-2])"
   ]
  },
  {
   "cell_type": "code",
   "execution_count": 12,
   "metadata": {},
   "outputs": [],
   "source": [
    "df.loc[df.country == \"Russia\", \"oblast\"] = df[df.country == \"Russia\"].location.str.split(\",\").apply(lambda x: [e for e in x if ('Oblast' in e)][0] if len([e for e in x if ('Oblast' in e)]) > 0 else None)"
   ]
  },
  {
   "cell_type": "code",
   "execution_count": 13,
   "metadata": {},
   "outputs": [],
   "source": [
    "df.loc[df.country == \"Belarus\", \"oblast\"] = df[df.country == \"Belarus\"].location.str.split(\",\").apply(lambda x: [e for e in x if ('Region' in e)][0] if len([e for e in x if ('Region' in e)]) > 0 else None)"
   ]
  },
  {
   "cell_type": "code",
   "execution_count": 14,
   "metadata": {},
   "outputs": [],
   "source": [
    "df.loc[df.country == \"Slovakia\", \"oblast\"] = df[df.country == \"Slovakia\"].location.str.split(\",\").apply(lambda x: [e for e in x if ('Region' in e)][0])"
   ]
  },
  {
   "cell_type": "code",
   "execution_count": 15,
   "metadata": {},
   "outputs": [],
   "source": [
    "df.loc[df.country == \"Serbia\", \"oblast\"] = df[df.country == \"Serbia\"].location.str.split(\",\").apply(lambda x: x[-3] if any(char.isdigit() for char in x[-2]) else x[-2])"
   ]
  },
  {
   "cell_type": "code",
   "execution_count": 16,
   "metadata": {},
   "outputs": [],
   "source": [
    "df.oblast = df.oblast[df.oblast.str[0] == \" \"].str[1:]"
   ]
  },
  {
   "cell_type": "code",
   "execution_count": 17,
   "metadata": {},
   "outputs": [],
   "source": [
    "df.groupby(['country','oblast'], dropna=False)['flight-id'].nunique().to_csv(\"oblasts.csv\")"
   ]
  },
  {
   "cell_type": "code",
   "execution_count": 18,
   "metadata": {},
   "outputs": [],
   "source": [
    "df['latitude, longitude'] = df[['latitude', 'longitude']].values.tolist()"
   ]
  },
  {
   "cell_type": "code",
   "execution_count": 24,
   "metadata": {},
   "outputs": [],
   "source": [
    "gbdf = df.sort_values(by='time at position').groupby(['flight-id','origin country','date'], dropna=False).agg({\n",
    "    \"barometric altitude\": np.max,\n",
    "    \"velocity\": np.max,\n",
    "    \"vertical rate\": np.max,\n",
    "    \"oblast\": lambda x: set(x),\n",
    "    \"country\": lambda x: set(x),\n",
    "    \"latitude, longitude\": lambda x: list(x)\n",
    "})"
   ]
  },
  {
   "cell_type": "code",
   "execution_count": null,
   "metadata": {},
   "outputs": [],
   "source": [
    "df[df.country == 'Ukraine'].to_csv('new_data_davi.csv', index=False) "
   ]
  },
  {
   "cell_type": "code",
   "execution_count": 25,
   "metadata": {},
   "outputs": [],
   "source": [
    "gbdf.to_csv(\"flights_separate.csv\")"
   ]
  },
  {
   "cell_type": "code",
   "execution_count": 23,
   "metadata": {},
   "outputs": [
    {
     "data": {
      "text/html": [
       "<div>\n",
       "<style scoped>\n",
       "    .dataframe tbody tr th:only-of-type {\n",
       "        vertical-align: middle;\n",
       "    }\n",
       "\n",
       "    .dataframe tbody tr th {\n",
       "        vertical-align: top;\n",
       "    }\n",
       "\n",
       "    .dataframe thead th {\n",
       "        text-align: right;\n",
       "    }\n",
       "</style>\n",
       "<table border=\"1\" class=\"dataframe\">\n",
       "  <thead>\n",
       "    <tr style=\"text-align: right;\">\n",
       "      <th></th>\n",
       "      <th>ICAO 24-bit code</th>\n",
       "      <th>callsign</th>\n",
       "      <th>origin country</th>\n",
       "      <th>time at position</th>\n",
       "      <th>time of last contact</th>\n",
       "      <th>longitude</th>\n",
       "      <th>latitude</th>\n",
       "      <th>barometric altitude</th>\n",
       "      <th>aircraft is grounded</th>\n",
       "      <th>velocity</th>\n",
       "      <th>...</th>\n",
       "      <th>vertical rate</th>\n",
       "      <th>geo_altitude</th>\n",
       "      <th>squawk</th>\n",
       "      <th>spi</th>\n",
       "      <th>latitude, longitude</th>\n",
       "      <th>location</th>\n",
       "      <th>country</th>\n",
       "      <th>oblast</th>\n",
       "      <th>date</th>\n",
       "      <th>flight-id</th>\n",
       "    </tr>\n",
       "  </thead>\n",
       "  <tbody>\n",
       "    <tr>\n",
       "      <th>0</th>\n",
       "      <td>471f8c</td>\n",
       "      <td>WZZ1550</td>\n",
       "      <td>Hungary</td>\n",
       "      <td>2022-02-22 15:28:28</td>\n",
       "      <td>2022-02-22 15:28:34</td>\n",
       "      <td>21.2426</td>\n",
       "      <td>45.9153</td>\n",
       "      <td>10668.0</td>\n",
       "      <td>False</td>\n",
       "      <td>231.00</td>\n",
       "      <td>...</td>\n",
       "      <td>-0.33</td>\n",
       "      <td>10553.70</td>\n",
       "      <td>6405.0</td>\n",
       "      <td>False</td>\n",
       "      <td>[45.9153, 21.2426]</td>\n",
       "      <td>DN69, Orțișoara, Timiș, 307307, Romania</td>\n",
       "      <td>Romania</td>\n",
       "      <td>Timiș</td>\n",
       "      <td>2022-02-22</td>\n",
       "      <td>471f8cWZZ15502022-02-22</td>\n",
       "    </tr>\n",
       "    <tr>\n",
       "      <th>21511</th>\n",
       "      <td>4baa72</td>\n",
       "      <td>THY4TA</td>\n",
       "      <td>Turkey</td>\n",
       "      <td>2022-02-22 19:39:18</td>\n",
       "      <td>2022-02-22 19:39:18</td>\n",
       "      <td>28.3571</td>\n",
       "      <td>43.4474</td>\n",
       "      <td>10058.4</td>\n",
       "      <td>False</td>\n",
       "      <td>208.69</td>\n",
       "      <td>...</td>\n",
       "      <td>-0.33</td>\n",
       "      <td>9974.58</td>\n",
       "      <td>4531.0</td>\n",
       "      <td>False</td>\n",
       "      <td>[43.4474, 28.3571]</td>\n",
       "      <td>Balgarevo, Kavarna, Dobrich, Bulgaria</td>\n",
       "      <td>Bulgaria</td>\n",
       "      <td>Dobrich</td>\n",
       "      <td>2022-02-22</td>\n",
       "      <td>4baa72THY4TA2022-02-22</td>\n",
       "    </tr>\n",
       "    <tr>\n",
       "      <th>21510</th>\n",
       "      <td>4baa66</td>\n",
       "      <td>THY52D</td>\n",
       "      <td>Turkey</td>\n",
       "      <td>2022-02-22 19:39:17</td>\n",
       "      <td>2022-02-22 19:39:18</td>\n",
       "      <td>26.5575</td>\n",
       "      <td>43.9758</td>\n",
       "      <td>9448.8</td>\n",
       "      <td>False</td>\n",
       "      <td>223.83</td>\n",
       "      <td>...</td>\n",
       "      <td>0.33</td>\n",
       "      <td>9357.36</td>\n",
       "      <td>7624.0</td>\n",
       "      <td>False</td>\n",
       "      <td>[43.9758, 26.5575]</td>\n",
       "      <td>Tutrakan, Silistra, 7600, Bulgaria</td>\n",
       "      <td>Bulgaria</td>\n",
       "      <td>Silistra</td>\n",
       "      <td>2022-02-22</td>\n",
       "      <td>4baa66THY52D2022-02-22</td>\n",
       "    </tr>\n",
       "    <tr>\n",
       "      <th>21509</th>\n",
       "      <td>4baa90</td>\n",
       "      <td>THY45K</td>\n",
       "      <td>Turkey</td>\n",
       "      <td>2022-02-22 19:39:17</td>\n",
       "      <td>2022-02-22 19:39:17</td>\n",
       "      <td>25.5156</td>\n",
       "      <td>42.8842</td>\n",
       "      <td>10668.0</td>\n",
       "      <td>False</td>\n",
       "      <td>232.10</td>\n",
       "      <td>...</td>\n",
       "      <td>0.00</td>\n",
       "      <td>10561.32</td>\n",
       "      <td>7634.0</td>\n",
       "      <td>False</td>\n",
       "      <td>[42.8842, 25.5156]</td>\n",
       "      <td>Staynovtsi, Triavna, Gabrovo, 5350, Bulgaria</td>\n",
       "      <td>Bulgaria</td>\n",
       "      <td>Gabrovo</td>\n",
       "      <td>2022-02-22</td>\n",
       "      <td>4baa90THY45K2022-02-22</td>\n",
       "    </tr>\n",
       "    <tr>\n",
       "      <th>21508</th>\n",
       "      <td>4bb141</td>\n",
       "      <td>THY10</td>\n",
       "      <td>Turkey</td>\n",
       "      <td>2022-02-22 19:39:17</td>\n",
       "      <td>2022-02-22 19:39:18</td>\n",
       "      <td>24.105</td>\n",
       "      <td>43.8004</td>\n",
       "      <td>10668.0</td>\n",
       "      <td>False</td>\n",
       "      <td>251.22</td>\n",
       "      <td>...</td>\n",
       "      <td>0.00</td>\n",
       "      <td>10553.70</td>\n",
       "      <td>2243.0</td>\n",
       "      <td>False</td>\n",
       "      <td>[43.8004, 24.105]</td>\n",
       "      <td>Strada Unirii, Dabuleni, Dolj, 207220, Romania</td>\n",
       "      <td>Romania</td>\n",
       "      <td>Dolj</td>\n",
       "      <td>2022-02-22</td>\n",
       "      <td>4bb141THY102022-02-22</td>\n",
       "    </tr>\n",
       "  </tbody>\n",
       "</table>\n",
       "<p>5 rows × 21 columns</p>\n",
       "</div>"
      ],
      "text/plain": [
       "      ICAO 24-bit code callsign origin country    time at position  \\\n",
       "0               471f8c  WZZ1550        Hungary 2022-02-22 15:28:28   \n",
       "21511           4baa72   THY4TA         Turkey 2022-02-22 19:39:18   \n",
       "21510           4baa66   THY52D         Turkey 2022-02-22 19:39:17   \n",
       "21509           4baa90   THY45K         Turkey 2022-02-22 19:39:17   \n",
       "21508           4bb141    THY10         Turkey 2022-02-22 19:39:17   \n",
       "\n",
       "      time of last contact longitude latitude  barometric altitude  \\\n",
       "0      2022-02-22 15:28:34   21.2426  45.9153              10668.0   \n",
       "21511  2022-02-22 19:39:18   28.3571  43.4474              10058.4   \n",
       "21510  2022-02-22 19:39:18   26.5575  43.9758               9448.8   \n",
       "21509  2022-02-22 19:39:17   25.5156  42.8842              10668.0   \n",
       "21508  2022-02-22 19:39:18    24.105  43.8004              10668.0   \n",
       "\n",
       "       aircraft is grounded  velocity  ...  vertical rate  geo_altitude  \\\n",
       "0                     False    231.00  ...          -0.33      10553.70   \n",
       "21511                 False    208.69  ...          -0.33       9974.58   \n",
       "21510                 False    223.83  ...           0.33       9357.36   \n",
       "21509                 False    232.10  ...           0.00      10561.32   \n",
       "21508                 False    251.22  ...           0.00      10553.70   \n",
       "\n",
       "       squawk    spi  latitude, longitude  \\\n",
       "0      6405.0  False   [45.9153, 21.2426]   \n",
       "21511  4531.0  False   [43.4474, 28.3571]   \n",
       "21510  7624.0  False   [43.9758, 26.5575]   \n",
       "21509  7634.0  False   [42.8842, 25.5156]   \n",
       "21508  2243.0  False    [43.8004, 24.105]   \n",
       "\n",
       "                                             location   country    oblast  \\\n",
       "0             DN69, Orțișoara, Timiș, 307307, Romania   Romania     Timiș   \n",
       "21511           Balgarevo, Kavarna, Dobrich, Bulgaria  Bulgaria   Dobrich   \n",
       "21510              Tutrakan, Silistra, 7600, Bulgaria  Bulgaria  Silistra   \n",
       "21509    Staynovtsi, Triavna, Gabrovo, 5350, Bulgaria  Bulgaria   Gabrovo   \n",
       "21508  Strada Unirii, Dabuleni, Dolj, 207220, Romania   Romania      Dolj   \n",
       "\n",
       "             date                flight-id  \n",
       "0      2022-02-22  471f8cWZZ15502022-02-22  \n",
       "21511  2022-02-22   4baa72THY4TA2022-02-22  \n",
       "21510  2022-02-22   4baa66THY52D2022-02-22  \n",
       "21509  2022-02-22   4baa90THY45K2022-02-22  \n",
       "21508  2022-02-22    4bb141THY102022-02-22  \n",
       "\n",
       "[5 rows x 21 columns]"
      ]
     },
     "execution_count": 23,
     "metadata": {},
     "output_type": "execute_result"
    }
   ],
   "source": [
    "df.sort_values(by='date').head()"
   ]
  }
 ],
 "metadata": {
  "kernelspec": {
   "display_name": "Python 3.9.10 64-bit",
   "language": "python",
   "name": "python3"
  },
  "language_info": {
   "codemirror_mode": {
    "name": "ipython",
    "version": 3
   },
   "file_extension": ".py",
   "mimetype": "text/x-python",
   "name": "python",
   "nbconvert_exporter": "python",
   "pygments_lexer": "ipython3",
   "version": "3.9.10"
  },
  "orig_nbformat": 4,
  "vscode": {
   "interpreter": {
    "hash": "aee8b7b246df8f9039afb4144a1f6fd8d2ca17a180786b69acc140d282b71a49"
   }
  }
 },
 "nbformat": 4,
 "nbformat_minor": 2
}
