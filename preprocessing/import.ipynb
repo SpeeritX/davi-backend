{
 "cells": [
  {
   "cell_type": "code",
   "execution_count": 1,
   "metadata": {},
   "outputs": [],
   "source": [
    "import pandas as pd\n",
    "import numpy as np\n",
    "df = pd.read_csv('processed_data_davi 2.csv', dtype={\n",
    "    \"ICAO 24-bit code\": 'str',\n",
    "    \"callsign\": 'str',\n",
    "    \"origin country\": 'str',\n",
    "    \"time at position\": 'str',\n",
    "    \"time of last contact\": 'str',\n",
    "    \"longitude\": 'str',\n",
    "    \"latitude\": 'str',\n",
    "    \"barometric altitude\": 'float',\n",
    "    \"aircraft is grounded\": 'bool',\n",
    "    \"velocity\": 'float',\n",
    "    \"heading\": 'float',\n",
    "    \"vertical rate\": 'float',\n",
    "    \"geo_altitude\": 'float',\n",
    "    \"squawk\": 'float',\n",
    "    \"spi\": 'bool',\n",
    "    \"latitude, longitude\": 'str',\n",
    "    \"location\": 'str',\n",
    "    \"country\": 'str',\n",
    "    \"oblast\": 'str',\n",
    "}, date_parser = pd.to_datetime,\n",
    "parse_dates=['time at position', 'time of last contact'])"
   ]
  },
  {
   "cell_type": "code",
   "execution_count": 2,
   "metadata": {},
   "outputs": [
    {
     "data": {
      "text/plain": [
       "array([], dtype=object)"
      ]
     },
     "execution_count": 2,
     "metadata": {},
     "output_type": "execute_result"
    }
   ],
   "source": [
    "df[df.country == 'Ukraine'].oblast.unique()"
   ]
  },
  {
   "cell_type": "code",
   "execution_count": 3,
   "metadata": {},
   "outputs": [],
   "source": [
    "df.latitude = round(df.latitude.astype(float),4).astype(str)"
   ]
  },
  {
   "cell_type": "code",
   "execution_count": 4,
   "metadata": {},
   "outputs": [],
   "source": [
    "df.longitude = round(df.longitude.astype(float),4).astype(str)"
   ]
  },
  {
   "cell_type": "code",
   "execution_count": 5,
   "metadata": {},
   "outputs": [],
   "source": [
    "df.country = df.country[df.country.str[0] == \" \"].str[1:]"
   ]
  },
  {
   "cell_type": "code",
   "execution_count": 6,
   "metadata": {},
   "outputs": [],
   "source": [
    "df['date'] = df['time at position'].apply(lambda x: str(x.date()))\n",
    "df['flight-id'] = df['ICAO 24-bit code'] + df['callsign'] + df['date']"
   ]
  },
  {
   "cell_type": "code",
   "execution_count": 7,
   "metadata": {},
   "outputs": [],
   "source": [
    "df.loc[df.country == \"Hungary\", \"oblast\"] = df[df.country == \"Hungary\"].location.str.split(\",\").apply(lambda x: [e for ind, e in enumerate(x[1:]) if ('járás' in x[ind])][0])"
   ]
  },
  {
   "cell_type": "code",
   "execution_count": 8,
   "metadata": {},
   "outputs": [],
   "source": [
    "df.loc[df.country == \"Poland\", \"oblast\"] = df[df.country == \"Poland\"].location.str.split(\",\").apply(lambda x: x[-2] if 'Voivodeship' in x[-2] else x[-3])"
   ]
  },
  {
   "cell_type": "code",
   "execution_count": 9,
   "metadata": {},
   "outputs": [],
   "source": [
    "df.loc[df.country == \"Romania\", \"oblast\"] = df[df.country == \"Romania\"].location.str.split(\",\").apply(lambda x: x[-3] if any(char.isdigit() for char in x[-2]) else x[-2])"
   ]
  },
  {
   "cell_type": "code",
   "execution_count": 10,
   "metadata": {},
   "outputs": [],
   "source": [
    "df.loc[df.country == \"Bulgaria\", \"oblast\"] = df[df.country == \"Bulgaria\"].location.str.split(\",\").apply(lambda x: x[-3] if any(char.isdigit() for char in x[-2]) else x[-2])"
   ]
  },
  {
   "cell_type": "code",
   "execution_count": 11,
   "metadata": {},
   "outputs": [],
   "source": [
    "df.loc[df.country == \"Russia\", \"oblast\"] = df[df.country == \"Russia\"].location.str.split(\",\").apply(lambda x: [e for e in x if ('Oblast' in e)][0] if len([e for e in x if ('Oblast' in e)]) > 0 else None)"
   ]
  },
  {
   "cell_type": "code",
   "execution_count": 12,
   "metadata": {},
   "outputs": [],
   "source": [
    "df.loc[df.country == \"Belarus\", \"oblast\"] = df[df.country == \"Belarus\"].location.str.split(\",\").apply(lambda x: [e for e in x if ('Region' in e)][0] if len([e for e in x if ('Region' in e)]) > 0 else None)"
   ]
  },
  {
   "cell_type": "code",
   "execution_count": 13,
   "metadata": {},
   "outputs": [],
   "source": [
    "df.loc[df.country == \"Slovakia\", \"oblast\"] = df[df.country == \"Slovakia\"].location.str.split(\",\").apply(lambda x: [e for e in x if ('Region' in e)][0])"
   ]
  },
  {
   "cell_type": "code",
   "execution_count": 14,
   "metadata": {},
   "outputs": [],
   "source": [
    "df.loc[df.country == \"Serbia\", \"oblast\"] = df[df.country == \"Serbia\"].location.str.split(\",\").apply(lambda x: x[-3] if any(char.isdigit() for char in x[-2]) else x[-2])"
   ]
  },
  {
   "cell_type": "code",
   "execution_count": 15,
   "metadata": {},
   "outputs": [],
   "source": [
    "df.oblast = df.oblast[df.oblast.str[0] == \" \"].str[1:]"
   ]
  },
  {
   "cell_type": "code",
   "execution_count": 16,
   "metadata": {},
   "outputs": [],
   "source": [
    "df.groupby(['country','oblast'], dropna=False)['flight-id'].nunique().to_csv(\"oblasts.csv\")"
   ]
  },
  {
   "cell_type": "code",
   "execution_count": 17,
   "metadata": {},
   "outputs": [],
   "source": [
    "df['latitude, longitude'] = df[['latitude', 'longitude']].values.tolist()"
   ]
  },
  {
   "cell_type": "code",
   "execution_count": 18,
   "metadata": {},
   "outputs": [],
   "source": [
    "gbdf = df.groupby(['flight-id','origin country','date'], dropna=False).agg({\n",
    "    \"barometric altitude\": np.max,\n",
    "    \"velocity\": np.max,\n",
    "    \"vertical rate\": np.max,\n",
    "    \"oblast\": lambda x: set(x),\n",
    "    \"country\": lambda x: set(x),\n",
    "    \"latitude, longitude\": lambda x: list(x)\n",
    "})"
   ]
  },
  {
   "cell_type": "code",
   "execution_count": null,
   "metadata": {},
   "outputs": [],
   "source": [
    "df[df.country == 'Ukraine'].to_csv('processed_data_davi.csv', index=False) "
   ]
  },
  {
   "cell_type": "code",
   "execution_count": null,
   "metadata": {},
   "outputs": [],
   "source": [
    "gbdf.to_csv(\"flights_separate.csv\")"
   ]
  }
 ],
 "metadata": {
  "kernelspec": {
   "display_name": "Python 3.9.10 64-bit",
   "language": "python",
   "name": "python3"
  },
  "language_info": {
   "codemirror_mode": {
    "name": "ipython",
    "version": 3
   },
   "file_extension": ".py",
   "mimetype": "text/x-python",
   "name": "python",
   "nbconvert_exporter": "python",
   "pygments_lexer": "ipython3",
   "version": "3.9.10"
  },
  "orig_nbformat": 4,
  "vscode": {
   "interpreter": {
    "hash": "aee8b7b246df8f9039afb4144a1f6fd8d2ca17a180786b69acc140d282b71a49"
   }
  }
 },
 "nbformat": 4,
 "nbformat_minor": 2
}
